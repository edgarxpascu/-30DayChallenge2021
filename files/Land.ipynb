{
 "cells": [
  {
   "cell_type": "markdown",
   "id": "0582e678",
   "metadata": {},
   "source": [
    "# 17 Land\n",
    "Land, landcover, landuse... You choose.\n",
    "### Land is where human life originated, that includes most of the food. This map is to recognize the top ten countries which farm the most and its kind of system which help them with that task."
   ]
  },
  {
   "cell_type": "code",
   "execution_count": 1,
   "id": "b14f05ae",
   "metadata": {},
   "outputs": [],
   "source": [
    "import ee\n",
    "import folium\n",
    "import geemap.eefolium as geemap\n",
    "import pprint\n",
    "import geopandas as gpd\n",
    "import os"
   ]
  },
  {
   "cell_type": "markdown",
   "id": "120c74e8",
   "metadata": {},
   "source": [
    "Se inicia sesión en Google Earth Engine"
   ]
  },
  {
   "cell_type": "code",
   "execution_count": null,
   "id": "fc892502",
   "metadata": {},
   "outputs": [],
   "source": [
    "# Trigger the authentication flow.\n",
    "ee.Authenticate()"
   ]
  },
  {
   "cell_type": "code",
   "execution_count": 3,
   "id": "58199e0b",
   "metadata": {
    "scrolled": true
   },
   "outputs": [
    {
     "name": "stdout",
     "output_type": "stream",
     "text": [
      "Google Earth Engine has initialized successfully!\n"
     ]
    }
   ],
   "source": [
    "try:\n",
    "  ee.Initialize()\n",
    "  print('Google Earth Engine has initialized successfully!')\n",
    "except ee.EEException as e:\n",
    "  print('Google Earth Engine has failed to initialize!')\n",
    "except:\n",
    "    print(\"Unexpected error:\", sys.exc_info()[0])\n",
    "    raise"
   ]
  },
  {
   "cell_type": "markdown",
   "id": "bf206712",
   "metadata": {},
   "source": [
    "Se descarga la imagen de [\"Cropland Extent 1km Multi-Study Crop Mask, Global Food-Support Analysis Data\"](https://developers.google.com/earth-engine/datasets/catalog/USGS_GFSAD1000_V1)\n"
   ]
  },
  {
   "cell_type": "code",
   "execution_count": 4,
   "id": "fdccde5a",
   "metadata": {},
   "outputs": [],
   "source": [
    "cropland = ee.Image(\"USGS/GFSAD1000_V1\")"
   ]
  },
  {
   "cell_type": "markdown",
   "id": "5036b052",
   "metadata": {},
   "source": [
    "Se obtienen los datos de la imagen"
   ]
  },
  {
   "cell_type": "code",
   "execution_count": 5,
   "id": "81990c0f",
   "metadata": {},
   "outputs": [
    {
     "name": "stdout",
     "output_type": "stream",
     "text": [
      "{'bands': [{'crs': 'EPSG:4326',\n",
      "            'crs_transform': [0.008928197055985392,\n",
      "                              0,\n",
      "                              -180.254454098528,\n",
      "                              0,\n",
      "                              -0.008928197055985392,\n",
      "                              90.25445409852799],\n",
      "            'data_type': {'max': 255,\n",
      "                          'min': 0,\n",
      "                          'precision': 'int',\n",
      "                          'type': 'PixelType'},\n",
      "            'dimensions': [40457, 20188],\n",
      "            'id': 'landcover'}],\n",
      " 'id': 'USGS/GFSAD1000_V1',\n",
      " 'properties': {'date_range': [1262304000000, 1262304000000],\n",
      "                'description': '<p>The GFSAD is a NASA-funded project to '\n",
      "                               'provide high-resolution global\\n'\n",
      "                               'cropland data and their water use that '\n",
      "                               'contributes towards global food\\n'\n",
      "                               'security in the twenty-first century. The '\n",
      "                               'GFSAD products are derived\\n'\n",
      "                               'through multi-sensor remote sensing data '\n",
      "                               '(e.g., Landsat, MODIS, AVHRR),\\n'\n",
      "                               'secondary data, and field-plot data and aims '\n",
      "                               'at documenting cropland\\n'\n",
      "                               'dynamics.</p><p>At a nominal 1km scale, V0.1 '\n",
      "                               'provides the spatial distribution of a\\n'\n",
      "                               'disaggregated five-class global cropland '\n",
      "                               'extent map derived from four\\n'\n",
      "                               'major studies: Thenkabail et al. (2009a, '\n",
      "                               '2011), Pittman et al. (2010),\\n'\n",
      "                               'Yu et al. (2013), and Friedl et al. (2010). '\n",
      "                               'V1.0 is a 5-class product that\\n'\n",
      "                               'provides information on global cropland extent '\n",
      "                               'and irrigated versus rainfed\\n'\n",
      "                               'cropping. There is no crop type or crop type '\n",
      "                               'dominance information. Cropping\\n'\n",
      "                               'intensity (single, double, triple, and '\n",
      "                               'continuous crops) can be obtained for\\n'\n",
      "                               'every pixel using time-series remote sensing '\n",
      "                               'data. The GFSAD1000 nominal\\n'\n",
      "                               '2010 product was created with data from 2007 '\n",
      "                               'to 2012.</p><p><b>Resolution</b><br>1000 '\n",
      "                               'meters\\n'\n",
      "                               '</p><p><b>Bands</b><table '\n",
      "                               'class=\"eecat\"><tr><th scope=\"col\">Name</th><th '\n",
      "                               'scope=\"col\">Description</th></tr><tr><td>landcover</td><td><p>Crop '\n",
      "                               'mask class '\n",
      "                               'descriptions</p></td></tr></table><p><b>Terms '\n",
      "                               'of Use</b><br><p>Most U.S. Geological Survey '\n",
      "                               '(USGS) information resides in the public '\n",
      "                               'domain and may be used without restriction. '\n",
      "                               'Additional information on <a '\n",
      "                               'href=\"https://www2.usgs.gov/visual-id/credit_usgs.html\">Acknowledging '\n",
      "                               'or Crediting USGS as Information Source</a> is '\n",
      "                               'available.</p><p><b>Suggested '\n",
      "                               'citation(s)</b><ul><li><p><a '\n",
      "                               'href=\"https://lpdaac.usgs.gov/documents/173/GFSAD1K_ATBD.pdf\">Teluguntla, '\n",
      "                               'P., Thenkabail, P.S., Xiong, J., Gumma, M.K., '\n",
      "                               'Giri, C., Milesi, C., Ozdogan, M., Congalton, '\n",
      "                               'R., Tilton, J., Sankey, T.R., Massey, R., '\n",
      "                               'Phalke, A., and Yadav, K. 2014. Global '\n",
      "                               'Cropland Area Database (GCAD) derived from '\n",
      "                               'Remote Sensing in Support of Food Security in '\n",
      "                               'the Twenty-first Century: Current Achievements '\n",
      "                               'and Future Possibilities. Chapter 7, Vol. II. '\n",
      "                               'Land Resources: Monitoring, Modelling, and '\n",
      "                               'Mapping, Remote Sensing Handbook edited by '\n",
      "                               'Prasad S. Thenkabail. In '\n",
      "                               'Press.</a></p></li></ul><style>\\n'\n",
      "                               '  table.eecat {\\n'\n",
      "                               '  border: 1px solid black;\\n'\n",
      "                               '  border-collapse: collapse;\\n'\n",
      "                               '  font-size: 13px;\\n'\n",
      "                               '  }\\n'\n",
      "                               '  table.eecat td, tr, th {\\n'\n",
      "                               '  text-align: left; vertical-align: top;\\n'\n",
      "                               '  border: 1px solid gray; padding: 3px;\\n'\n",
      "                               '  }\\n'\n",
      "                               '  td.nobreak { white-space: nowrap; }\\n'\n",
      "                               '</style>',\n",
      "                'keywords': ['crop', 'cropland', 'gfsad', 'landcover', 'usgs'],\n",
      "                'landcover_class_names': ['Non-croplands',\n",
      "                                          'Croplands, Irrigation major',\n",
      "                                          'Croplands, Irrigation minor',\n",
      "                                          'Croplands, Rainfed',\n",
      "                                          'Croplands, Rainfed minor fragments',\n",
      "                                          'Croplands, Rainfed very minor '\n",
      "                                          'fragments'],\n",
      "                'landcover_class_palette': ['000000',\n",
      "                                            'ff00ff',\n",
      "                                            '00ff00',\n",
      "                                            'ffff00',\n",
      "                                            '00ffff',\n",
      "                                            'd2b58c'],\n",
      "                'landcover_class_values': [0, 1, 2, 3, 4, 5],\n",
      "                'period': 0,\n",
      "                'product_tags': ['landcover', 'cropland', 'crop'],\n",
      "                'provider': 'Global Food Security-support Analysis Data at 30m '\n",
      "                            'Project (GFSAD30)',\n",
      "                'provider_url': 'https://geography.wr.usgs.gov/science/croplands/',\n",
      "                'sample': 'https://mw1.google.com/ges/dd/images/USGS_GFSAD1000_V1_sample.png',\n",
      "                'source_tags': ['gfsad', 'usgs'],\n",
      "                'system:asset_size': 16817683,\n",
      "                'system:footprint': {'coordinates': [[-180, -90],\n",
      "                                                     [180, -90],\n",
      "                                                     [180, 90],\n",
      "                                                     [-180, 90],\n",
      "                                                     [-180, -90]],\n",
      "                                     'type': 'LinearRing'},\n",
      "                'system:time_end': 1293840000000,\n",
      "                'system:time_start': 1262304000000,\n",
      "                'system:visualization_0_bands': 'landcover',\n",
      "                'system:visualization_0_max': '5.0',\n",
      "                'system:visualization_0_min': '0.0',\n",
      "                'system:visualization_0_name': 'Crop Mask',\n",
      "                'system:visualization_0_palette': 'black,orange,brown,02a50f,green,yellow',\n",
      "                'tags': ['crop', 'cropland', 'gfsad', 'landcover', 'usgs'],\n",
      "                'thumb': 'https://mw1.google.com/ges/dd/images/USGS_GFSAD1000_V1_thumb.png',\n",
      "                'title': 'GFSAD1000: Cropland Extent 1km Multi-Study Crop '\n",
      "                         'Mask, Global Food-Support Analysis Data',\n",
      "                'type_name': 'Image',\n",
      "                'visualization_0_bands': 'landcover',\n",
      "                'visualization_0_max': '5.0',\n",
      "                'visualization_0_min': '0.0',\n",
      "                'visualization_0_name': 'Crop Mask',\n",
      "                'visualization_0_palette': 'black,orange,brown,02a50f,green,yellow'},\n",
      " 'type': 'Image',\n",
      " 'version': 1633264251263524}\n"
     ]
    }
   ],
   "source": [
    "pprint.pprint(cropland.getInfo())"
   ]
  },
  {
   "cell_type": "markdown",
   "id": "7a2a80cb",
   "metadata": {},
   "source": [
    "Se asignan los países para crear el mapa"
   ]
  },
  {
   "cell_type": "code",
   "execution_count": 6,
   "id": "d1b28ec7",
   "metadata": {},
   "outputs": [],
   "source": [
    "dataset = ee.FeatureCollection('USDOS/LSIB_SIMPLE/2017');\n",
    "USA = dataset.filter(ee.Filter.eq('country_na', 'United States'));\n",
    "China = dataset.filter(ee.Filter.eq('country_na', 'China'));\n",
    "Turkey = dataset.filter(ee.Filter.eq('country_na', 'Turkey'));\n",
    "India = dataset.filter(ee.Filter.eq('country_na', 'India'));\n",
    "Brazil = dataset.filter(ee.Filter.eq('country_na', 'Brazil'));\n",
    "Chile = dataset.filter(ee.Filter.eq('country_na', 'Chile'));\n",
    "Russia = dataset.filter(ee.Filter.eq('country_na', 'Russia'));\n",
    "Iran = dataset.filter(ee.Filter.eq('country_na', 'Iran'));\n",
    "Uzbekistan = dataset.filter(ee.Filter.eq('country_na', 'Uzbekistan'));\n",
    "Ukraine = dataset.filter(ee.Filter.eq('country_na', 'Ukraine'));"
   ]
  },
  {
   "cell_type": "code",
   "execution_count": 7,
   "id": "29c4650e",
   "metadata": {},
   "outputs": [
    {
     "data": {
      "text/html": [
       "<div style=\"width:100%;\"><div style=\"position:relative;width:100%;height:0;padding-bottom:60%;\"><span style=\"color:#565656\">Make this Notebook Trusted to load map: File -> Trust Notebook</span><iframe src=\"about:blank\" style=\"position:absolute;width:100%;height:100%;left:0;top:0;border:none !important;\" data-html=%3C%21DOCTYPE%20html%3E%0A%3Chead%3E%20%20%20%20%0A%20%20%20%20%3Cmeta%20http-equiv%3D%22content-type%22%20content%3D%22text/html%3B%20charset%3DUTF-8%22%20/%3E%0A%20%20%20%20%0A%20%20%20%20%20%20%20%20%3Cscript%3E%0A%20%20%20%20%20%20%20%20%20%20%20%20L_NO_TOUCH%20%3D%20false%3B%0A%20%20%20%20%20%20%20%20%20%20%20%20L_DISABLE_3D%20%3D%20false%3B%0A%20%20%20%20%20%20%20%20%3C/script%3E%0A%20%20%20%20%0A%20%20%20%20%3Cstyle%3Ehtml%2C%20body%20%7Bwidth%3A%20100%25%3Bheight%3A%20100%25%3Bmargin%3A%200%3Bpadding%3A%200%3B%7D%3C/style%3E%0A%20%20%20%20%3Cstyle%3E%23map%20%7Bposition%3Aabsolute%3Btop%3A0%3Bbottom%3A0%3Bright%3A0%3Bleft%3A0%3B%7D%3C/style%3E%0A%20%20%20%20%3Cscript%20src%3D%22https%3A//cdn.jsdelivr.net/npm/leaflet%401.6.0/dist/leaflet.js%22%3E%3C/script%3E%0A%20%20%20%20%3Cscript%20src%3D%22https%3A//code.jquery.com/jquery-1.12.4.min.js%22%3E%3C/script%3E%0A%20%20%20%20%3Cscript%20src%3D%22https%3A//maxcdn.bootstrapcdn.com/bootstrap/3.2.0/js/bootstrap.min.js%22%3E%3C/script%3E%0A%20%20%20%20%3Cscript%20src%3D%22https%3A//cdnjs.cloudflare.com/ajax/libs/Leaflet.awesome-markers/2.0.2/leaflet.awesome-markers.js%22%3E%3C/script%3E%0A%20%20%20%20%3Clink%20rel%3D%22stylesheet%22%20href%3D%22https%3A//cdn.jsdelivr.net/npm/leaflet%401.6.0/dist/leaflet.css%22/%3E%0A%20%20%20%20%3Clink%20rel%3D%22stylesheet%22%20href%3D%22https%3A//maxcdn.bootstrapcdn.com/bootstrap/3.2.0/css/bootstrap.min.css%22/%3E%0A%20%20%20%20%3Clink%20rel%3D%22stylesheet%22%20href%3D%22https%3A//maxcdn.bootstrapcdn.com/bootstrap/3.2.0/css/bootstrap-theme.min.css%22/%3E%0A%20%20%20%20%3Clink%20rel%3D%22stylesheet%22%20href%3D%22https%3A//maxcdn.bootstrapcdn.com/font-awesome/4.6.3/css/font-awesome.min.css%22/%3E%0A%20%20%20%20%3Clink%20rel%3D%22stylesheet%22%20href%3D%22https%3A//cdnjs.cloudflare.com/ajax/libs/Leaflet.awesome-markers/2.0.2/leaflet.awesome-markers.css%22/%3E%0A%20%20%20%20%3Clink%20rel%3D%22stylesheet%22%20href%3D%22https%3A//cdn.jsdelivr.net/gh/python-visualization/folium/folium/templates/leaflet.awesome.rotate.min.css%22/%3E%0A%20%20%20%20%0A%20%20%20%20%20%20%20%20%20%20%20%20%3Cmeta%20name%3D%22viewport%22%20content%3D%22width%3Ddevice-width%2C%0A%20%20%20%20%20%20%20%20%20%20%20%20%20%20%20%20initial-scale%3D1.0%2C%20maximum-scale%3D1.0%2C%20user-scalable%3Dno%22%20/%3E%0A%20%20%20%20%20%20%20%20%20%20%20%20%3Cstyle%3E%0A%20%20%20%20%20%20%20%20%20%20%20%20%20%20%20%20%23map_5fb2591a305a4c4599dbf0af23f97855%20%7B%0A%20%20%20%20%20%20%20%20%20%20%20%20%20%20%20%20%20%20%20%20position%3A%20relative%3B%0A%20%20%20%20%20%20%20%20%20%20%20%20%20%20%20%20%20%20%20%20width%3A%20100.0%25%3B%0A%20%20%20%20%20%20%20%20%20%20%20%20%20%20%20%20%20%20%20%20height%3A%20100.0%25%3B%0A%20%20%20%20%20%20%20%20%20%20%20%20%20%20%20%20%20%20%20%20left%3A%200.0%25%3B%0A%20%20%20%20%20%20%20%20%20%20%20%20%20%20%20%20%20%20%20%20top%3A%200.0%25%3B%0A%20%20%20%20%20%20%20%20%20%20%20%20%20%20%20%20%7D%0A%20%20%20%20%20%20%20%20%20%20%20%20%3C/style%3E%0A%20%20%20%20%20%20%20%20%0A%20%20%20%20%3Cscript%20src%3D%22https%3A//cdnjs.cloudflare.com/ajax/libs/leaflet.fullscreen/1.4.2/Control.FullScreen.min.js%22%3E%3C/script%3E%0A%20%20%20%20%3Clink%20rel%3D%22stylesheet%22%20href%3D%22https%3A//cdnjs.cloudflare.com/ajax/libs/leaflet.fullscreen/1.4.2/Control.FullScreen.min.css%22/%3E%0A%3C/head%3E%0A%3Cbody%3E%20%20%20%20%0A%20%20%20%20%0A%20%20%20%20%20%20%20%20%20%20%20%20%3Cdiv%20class%3D%22folium-map%22%20id%3D%22map_5fb2591a305a4c4599dbf0af23f97855%22%20%3E%3C/div%3E%0A%20%20%20%20%20%20%20%20%0A%3C/body%3E%0A%3Cscript%3E%20%20%20%20%0A%20%20%20%20%0A%20%20%20%20%20%20%20%20%20%20%20%20var%20map_5fb2591a305a4c4599dbf0af23f97855%20%3D%20L.map%28%0A%20%20%20%20%20%20%20%20%20%20%20%20%20%20%20%20%22map_5fb2591a305a4c4599dbf0af23f97855%22%2C%0A%20%20%20%20%20%20%20%20%20%20%20%20%20%20%20%20%7B%0A%20%20%20%20%20%20%20%20%20%20%20%20%20%20%20%20%20%20%20%20center%3A%20%5B40.0%2C%20-100.0%5D%2C%0A%20%20%20%20%20%20%20%20%20%20%20%20%20%20%20%20%20%20%20%20crs%3A%20L.CRS.EPSG3857%2C%0A%20%20%20%20%20%20%20%20%20%20%20%20%20%20%20%20%20%20%20%20zoom%3A%204%2C%0A%20%20%20%20%20%20%20%20%20%20%20%20%20%20%20%20%20%20%20%20zoomControl%3A%20true%2C%0A%20%20%20%20%20%20%20%20%20%20%20%20%20%20%20%20%20%20%20%20preferCanvas%3A%20false%2C%0A%20%20%20%20%20%20%20%20%20%20%20%20%20%20%20%20%20%20%20%20eeInitialize%3A%20true%2C%0A%20%20%20%20%20%20%20%20%20%20%20%20%20%20%20%20%20%20%20%20addGoogleMap%3A%20true%2C%0A%20%20%20%20%20%20%20%20%20%20%20%20%20%20%20%20%20%20%20%20pluginLatlngpopup%3A%20true%2C%0A%20%20%20%20%20%20%20%20%20%20%20%20%20%20%20%20%20%20%20%20pluginFullscreen%3A%20true%2C%0A%20%20%20%20%20%20%20%20%20%20%20%20%20%20%20%20%20%20%20%20pluginDraw%3A%20false%2C%0A%20%20%20%20%20%20%20%20%20%20%20%20%20%20%20%20%20%20%20%20DrawExport%3A%20true%2C%0A%20%20%20%20%20%20%20%20%20%20%20%20%20%20%20%20%20%20%20%20pluginMinimap%3A%20false%2C%0A%20%20%20%20%20%20%20%20%20%20%20%20%20%20%20%20%20%20%20%20pluginLayercontrol%3A%20false%2C%0A%20%20%20%20%20%20%20%20%20%20%20%20%20%20%20%20%7D%0A%20%20%20%20%20%20%20%20%20%20%20%20%29%3B%0A%0A%20%20%20%20%20%20%20%20%20%20%20%20%0A%0A%20%20%20%20%20%20%20%20%0A%20%20%20%20%0A%20%20%20%20%20%20%20%20%20%20%20%20var%20tile_layer_4ce53a04f6524a5e901a594305500d05%20%3D%20L.tileLayer%28%0A%20%20%20%20%20%20%20%20%20%20%20%20%20%20%20%20%22https%3A//%7Bs%7D.tile.openstreetmap.org/%7Bz%7D/%7Bx%7D/%7By%7D.png%22%2C%0A%20%20%20%20%20%20%20%20%20%20%20%20%20%20%20%20%7B%22attribution%22%3A%20%22Data%20by%20%5Cu0026copy%3B%20%5Cu003ca%20href%3D%5C%22http%3A//openstreetmap.org%5C%22%5Cu003eOpenStreetMap%5Cu003c/a%5Cu003e%2C%20under%20%5Cu003ca%20href%3D%5C%22http%3A//www.openstreetmap.org/copyright%5C%22%5Cu003eODbL%5Cu003c/a%5Cu003e.%22%2C%20%22detectRetina%22%3A%20false%2C%20%22maxNativeZoom%22%3A%2018%2C%20%22maxZoom%22%3A%2018%2C%20%22minZoom%22%3A%200%2C%20%22noWrap%22%3A%20false%2C%20%22opacity%22%3A%201%2C%20%22subdomains%22%3A%20%22abc%22%2C%20%22tms%22%3A%20false%7D%0A%20%20%20%20%20%20%20%20%20%20%20%20%29.addTo%28map_5fb2591a305a4c4599dbf0af23f97855%29%3B%0A%20%20%20%20%20%20%20%20%0A%20%20%20%20%0A%20%20%20%20%20%20%20%20%20%20%20%20var%20tile_layer_9893d2534a87412faca24142f9b5ccbe%20%3D%20L.tileLayer%28%0A%20%20%20%20%20%20%20%20%20%20%20%20%20%20%20%20%22https%3A//mt1.google.com/vt/lyrs%3Dm%5Cu0026x%3D%7Bx%7D%5Cu0026y%3D%7By%7D%5Cu0026z%3D%7Bz%7D%22%2C%0A%20%20%20%20%20%20%20%20%20%20%20%20%20%20%20%20%7B%22attribution%22%3A%20%22Google%22%2C%20%22detectRetina%22%3A%20false%2C%20%22maxNativeZoom%22%3A%2018%2C%20%22maxZoom%22%3A%2018%2C%20%22minZoom%22%3A%200%2C%20%22noWrap%22%3A%20false%2C%20%22opacity%22%3A%201%2C%20%22subdomains%22%3A%20%22abc%22%2C%20%22tms%22%3A%20false%7D%0A%20%20%20%20%20%20%20%20%20%20%20%20%29.addTo%28map_5fb2591a305a4c4599dbf0af23f97855%29%3B%0A%20%20%20%20%20%20%20%20%0A%20%20%20%20%0A%20%20%20%20%20%20%20%20%20%20%20%20%20%20%20%20var%20lat_lng_popup_c2e02042beb040c0ae770fcf0ba9a59c%20%3D%20L.popup%28%29%3B%0A%20%20%20%20%20%20%20%20%20%20%20%20%20%20%20%20function%20latLngPop%28e%29%20%7B%0A%20%20%20%20%20%20%20%20%20%20%20%20%20%20%20%20%20%20%20%20lat_lng_popup_c2e02042beb040c0ae770fcf0ba9a59c%0A%20%20%20%20%20%20%20%20%20%20%20%20%20%20%20%20%20%20%20%20%20%20%20%20.setLatLng%28e.latlng%29%0A%20%20%20%20%20%20%20%20%20%20%20%20%20%20%20%20%20%20%20%20%20%20%20%20.setContent%28%22Latitude%3A%20%22%20%2B%20e.latlng.lat.toFixed%284%29%20%2B%0A%20%20%20%20%20%20%20%20%20%20%20%20%20%20%20%20%20%20%20%20%20%20%20%20%20%20%20%20%20%20%20%20%20%20%20%20%22%3Cbr%3ELongitude%3A%20%22%20%2B%20e.latlng.lng.toFixed%284%29%29%0A%20%20%20%20%20%20%20%20%20%20%20%20%20%20%20%20%20%20%20%20%20%20%20%20.openOn%28map_5fb2591a305a4c4599dbf0af23f97855%29%3B%0A%20%20%20%20%20%20%20%20%20%20%20%20%20%20%20%20%20%20%20%20%7D%0A%20%20%20%20%20%20%20%20%20%20%20%20%20%20%20%20map_5fb2591a305a4c4599dbf0af23f97855.on%28%27click%27%2C%20latLngPop%29%3B%0A%20%20%20%20%20%20%20%20%20%20%20%20%0A%20%20%20%20%0A%20%20%20%20%20%20%20%20%20%20%20%20L.control.fullscreen%28%0A%20%20%20%20%20%20%20%20%20%20%20%20%20%20%20%20%7B%22forceSeparateButton%22%3A%20false%2C%20%22position%22%3A%20%22topleft%22%2C%20%22title%22%3A%20%22Full%20Screen%22%2C%20%22titleCancel%22%3A%20%22Exit%20Full%20Screen%22%7D%0A%20%20%20%20%20%20%20%20%20%20%20%20%29.addTo%28map_5fb2591a305a4c4599dbf0af23f97855%29%3B%0A%20%20%20%20%20%20%20%20%0A%20%20%20%20%0A%20%20%20%20%20%20%20%20%20%20%20%20map_5fb2591a305a4c4599dbf0af23f97855.fitBounds%28%0A%20%20%20%20%20%20%20%20%20%20%20%20%20%20%20%20%5B%5B40%2C%20-100%5D%2C%20%5B40%2C%20-100%5D%5D%2C%0A%20%20%20%20%20%20%20%20%20%20%20%20%20%20%20%20%7B%22maxZoom%22%3A%204%7D%0A%20%20%20%20%20%20%20%20%20%20%20%20%29%3B%0A%20%20%20%20%20%20%20%20%0A%20%20%20%20%0A%20%20%20%20%20%20%20%20%20%20%20%20var%20tile_layer_1ac0f8695c9e4d87868443dbc512a49c%20%3D%20L.tileLayer%28%0A%20%20%20%20%20%20%20%20%20%20%20%20%20%20%20%20%22https%3A//earthengine.googleapis.com/v1alpha/projects/earthengine-legacy/maps/69d40dbc364400a3fbcb0331ad598578-265e1db8516b4d328defc22b5bf0cab9/tiles/%7Bz%7D/%7Bx%7D/%7By%7D%22%2C%0A%20%20%20%20%20%20%20%20%20%20%20%20%20%20%20%20%7B%22attribution%22%3A%20%22Google%20Earth%20Engine%22%2C%20%22detectRetina%22%3A%20false%2C%20%22maxNativeZoom%22%3A%2018%2C%20%22maxZoom%22%3A%2018%2C%20%22minZoom%22%3A%200%2C%20%22noWrap%22%3A%20false%2C%20%22opacity%22%3A%201.0%2C%20%22subdomains%22%3A%20%22abc%22%2C%20%22tms%22%3A%20false%7D%0A%20%20%20%20%20%20%20%20%20%20%20%20%29.addTo%28map_5fb2591a305a4c4599dbf0af23f97855%29%3B%0A%20%20%20%20%20%20%20%20%0A%20%20%20%20%0A%20%20%20%20%20%20%20%20%20%20%20%20var%20tile_layer_26b0dd1cbfc14f6facdf46c7567400e4%20%3D%20L.tileLayer%28%0A%20%20%20%20%20%20%20%20%20%20%20%20%20%20%20%20%22https%3A//earthengine.googleapis.com/v1alpha/projects/earthengine-legacy/maps/27b3a8be52d0431368f94eab662751d5-a1229e727f022fbadf80cff044f389be/tiles/%7Bz%7D/%7Bx%7D/%7By%7D%22%2C%0A%20%20%20%20%20%20%20%20%20%20%20%20%20%20%20%20%7B%22attribution%22%3A%20%22Google%20Earth%20Engine%22%2C%20%22detectRetina%22%3A%20false%2C%20%22maxNativeZoom%22%3A%2018%2C%20%22maxZoom%22%3A%2018%2C%20%22minZoom%22%3A%200%2C%20%22noWrap%22%3A%20false%2C%20%22opacity%22%3A%201.0%2C%20%22subdomains%22%3A%20%22abc%22%2C%20%22tms%22%3A%20false%7D%0A%20%20%20%20%20%20%20%20%20%20%20%20%29.addTo%28map_5fb2591a305a4c4599dbf0af23f97855%29%3B%0A%20%20%20%20%20%20%20%20%0A%20%20%20%20%0A%20%20%20%20%20%20%20%20%20%20%20%20var%20tile_layer_77ee565112974fe88f953fa15db4b938%20%3D%20L.tileLayer%28%0A%20%20%20%20%20%20%20%20%20%20%20%20%20%20%20%20%22https%3A//earthengine.googleapis.com/v1alpha/projects/earthengine-legacy/maps/1ac9e231dcb3b6f771cb9b38fe89c1f2-fc6e7dbad0c1232a671106869d16fa33/tiles/%7Bz%7D/%7Bx%7D/%7By%7D%22%2C%0A%20%20%20%20%20%20%20%20%20%20%20%20%20%20%20%20%7B%22attribution%22%3A%20%22Google%20Earth%20Engine%22%2C%20%22detectRetina%22%3A%20false%2C%20%22maxNativeZoom%22%3A%2018%2C%20%22maxZoom%22%3A%2018%2C%20%22minZoom%22%3A%200%2C%20%22noWrap%22%3A%20false%2C%20%22opacity%22%3A%201.0%2C%20%22subdomains%22%3A%20%22abc%22%2C%20%22tms%22%3A%20false%7D%0A%20%20%20%20%20%20%20%20%20%20%20%20%29.addTo%28map_5fb2591a305a4c4599dbf0af23f97855%29%3B%0A%20%20%20%20%20%20%20%20%0A%20%20%20%20%0A%20%20%20%20%20%20%20%20%20%20%20%20var%20tile_layer_0974e5b82baa4777882c270cb0abcbf6%20%3D%20L.tileLayer%28%0A%20%20%20%20%20%20%20%20%20%20%20%20%20%20%20%20%22https%3A//earthengine.googleapis.com/v1alpha/projects/earthengine-legacy/maps/8668514a1441a67903e7be70f5a35036-224da74dcb986210e809f396b5bff49b/tiles/%7Bz%7D/%7Bx%7D/%7By%7D%22%2C%0A%20%20%20%20%20%20%20%20%20%20%20%20%20%20%20%20%7B%22attribution%22%3A%20%22Google%20Earth%20Engine%22%2C%20%22detectRetina%22%3A%20false%2C%20%22maxNativeZoom%22%3A%2018%2C%20%22maxZoom%22%3A%2018%2C%20%22minZoom%22%3A%200%2C%20%22noWrap%22%3A%20false%2C%20%22opacity%22%3A%201.0%2C%20%22subdomains%22%3A%20%22abc%22%2C%20%22tms%22%3A%20false%7D%0A%20%20%20%20%20%20%20%20%20%20%20%20%29.addTo%28map_5fb2591a305a4c4599dbf0af23f97855%29%3B%0A%20%20%20%20%20%20%20%20%0A%20%20%20%20%0A%20%20%20%20%20%20%20%20%20%20%20%20var%20tile_layer_e98e45c759674356aef33b81a6755223%20%3D%20L.tileLayer%28%0A%20%20%20%20%20%20%20%20%20%20%20%20%20%20%20%20%22https%3A//earthengine.googleapis.com/v1alpha/projects/earthengine-legacy/maps/4a8c1155718a912614c3564429ba990c-e84b7c0703a55b31d92db441a1666ace/tiles/%7Bz%7D/%7Bx%7D/%7By%7D%22%2C%0A%20%20%20%20%20%20%20%20%20%20%20%20%20%20%20%20%7B%22attribution%22%3A%20%22Google%20Earth%20Engine%22%2C%20%22detectRetina%22%3A%20false%2C%20%22maxNativeZoom%22%3A%2018%2C%20%22maxZoom%22%3A%2018%2C%20%22minZoom%22%3A%200%2C%20%22noWrap%22%3A%20false%2C%20%22opacity%22%3A%201.0%2C%20%22subdomains%22%3A%20%22abc%22%2C%20%22tms%22%3A%20false%7D%0A%20%20%20%20%20%20%20%20%20%20%20%20%29.addTo%28map_5fb2591a305a4c4599dbf0af23f97855%29%3B%0A%20%20%20%20%20%20%20%20%0A%20%20%20%20%0A%20%20%20%20%20%20%20%20%20%20%20%20var%20tile_layer_0f2879f00d3748ebbdbda73e93fa8986%20%3D%20L.tileLayer%28%0A%20%20%20%20%20%20%20%20%20%20%20%20%20%20%20%20%22https%3A//earthengine.googleapis.com/v1alpha/projects/earthengine-legacy/maps/2c539b678365f8a5e768d23ff1133fbb-3234aafaeee8b3696ab09f8f683e25f7/tiles/%7Bz%7D/%7Bx%7D/%7By%7D%22%2C%0A%20%20%20%20%20%20%20%20%20%20%20%20%20%20%20%20%7B%22attribution%22%3A%20%22Google%20Earth%20Engine%22%2C%20%22detectRetina%22%3A%20false%2C%20%22maxNativeZoom%22%3A%2018%2C%20%22maxZoom%22%3A%2018%2C%20%22minZoom%22%3A%200%2C%20%22noWrap%22%3A%20false%2C%20%22opacity%22%3A%201.0%2C%20%22subdomains%22%3A%20%22abc%22%2C%20%22tms%22%3A%20false%7D%0A%20%20%20%20%20%20%20%20%20%20%20%20%29.addTo%28map_5fb2591a305a4c4599dbf0af23f97855%29%3B%0A%20%20%20%20%20%20%20%20%0A%20%20%20%20%0A%20%20%20%20%20%20%20%20%20%20%20%20var%20tile_layer_ad22cceb20af4ef6bde069d66b2ff082%20%3D%20L.tileLayer%28%0A%20%20%20%20%20%20%20%20%20%20%20%20%20%20%20%20%22https%3A//earthengine.googleapis.com/v1alpha/projects/earthengine-legacy/maps/9b288c16b5f6d60ee55621fd7defdf27-814c4a4c54c53262e809cd8fc4b4716d/tiles/%7Bz%7D/%7Bx%7D/%7By%7D%22%2C%0A%20%20%20%20%20%20%20%20%20%20%20%20%20%20%20%20%7B%22attribution%22%3A%20%22Google%20Earth%20Engine%22%2C%20%22detectRetina%22%3A%20false%2C%20%22maxNativeZoom%22%3A%2018%2C%20%22maxZoom%22%3A%2018%2C%20%22minZoom%22%3A%200%2C%20%22noWrap%22%3A%20false%2C%20%22opacity%22%3A%201.0%2C%20%22subdomains%22%3A%20%22abc%22%2C%20%22tms%22%3A%20false%7D%0A%20%20%20%20%20%20%20%20%20%20%20%20%29.addTo%28map_5fb2591a305a4c4599dbf0af23f97855%29%3B%0A%20%20%20%20%20%20%20%20%0A%20%20%20%20%0A%20%20%20%20%20%20%20%20%20%20%20%20var%20tile_layer_16f1e896e94145079475ccd1de0493ff%20%3D%20L.tileLayer%28%0A%20%20%20%20%20%20%20%20%20%20%20%20%20%20%20%20%22https%3A//earthengine.googleapis.com/v1alpha/projects/earthengine-legacy/maps/9b288c16b5f6d60ee55621fd7defdf27-46e560b8e721393035d2620084c6afd9/tiles/%7Bz%7D/%7Bx%7D/%7By%7D%22%2C%0A%20%20%20%20%20%20%20%20%20%20%20%20%20%20%20%20%7B%22attribution%22%3A%20%22Google%20Earth%20Engine%22%2C%20%22detectRetina%22%3A%20false%2C%20%22maxNativeZoom%22%3A%2018%2C%20%22maxZoom%22%3A%2018%2C%20%22minZoom%22%3A%200%2C%20%22noWrap%22%3A%20false%2C%20%22opacity%22%3A%201.0%2C%20%22subdomains%22%3A%20%22abc%22%2C%20%22tms%22%3A%20false%7D%0A%20%20%20%20%20%20%20%20%20%20%20%20%29.addTo%28map_5fb2591a305a4c4599dbf0af23f97855%29%3B%0A%20%20%20%20%20%20%20%20%0A%20%20%20%20%0A%20%20%20%20%20%20%20%20%20%20%20%20var%20tile_layer_279a8293bb514e16a1c727cf83a1f7aa%20%3D%20L.tileLayer%28%0A%20%20%20%20%20%20%20%20%20%20%20%20%20%20%20%20%22https%3A//earthengine.googleapis.com/v1alpha/projects/earthengine-legacy/maps/9b288c16b5f6d60ee55621fd7defdf27-94a00390a1c5d4385d80b9ff25aecc3c/tiles/%7Bz%7D/%7Bx%7D/%7By%7D%22%2C%0A%20%20%20%20%20%20%20%20%20%20%20%20%20%20%20%20%7B%22attribution%22%3A%20%22Google%20Earth%20Engine%22%2C%20%22detectRetina%22%3A%20false%2C%20%22maxNativeZoom%22%3A%2018%2C%20%22maxZoom%22%3A%2018%2C%20%22minZoom%22%3A%200%2C%20%22noWrap%22%3A%20false%2C%20%22opacity%22%3A%201.0%2C%20%22subdomains%22%3A%20%22abc%22%2C%20%22tms%22%3A%20false%7D%0A%20%20%20%20%20%20%20%20%20%20%20%20%29.addTo%28map_5fb2591a305a4c4599dbf0af23f97855%29%3B%0A%20%20%20%20%20%20%20%20%0A%20%20%20%20%0A%20%20%20%20%20%20%20%20%20%20%20%20var%20tile_layer_f10aed8f836b4b3c8bc34c5b8678d7e9%20%3D%20L.tileLayer%28%0A%20%20%20%20%20%20%20%20%20%20%20%20%20%20%20%20%22https%3A//earthengine.googleapis.com/v1alpha/projects/earthengine-legacy/maps/9b288c16b5f6d60ee55621fd7defdf27-9fc164f32ffbbc4a3768ab6dcab74d0a/tiles/%7Bz%7D/%7Bx%7D/%7By%7D%22%2C%0A%20%20%20%20%20%20%20%20%20%20%20%20%20%20%20%20%7B%22attribution%22%3A%20%22Google%20Earth%20Engine%22%2C%20%22detectRetina%22%3A%20false%2C%20%22maxNativeZoom%22%3A%2018%2C%20%22maxZoom%22%3A%2018%2C%20%22minZoom%22%3A%200%2C%20%22noWrap%22%3A%20false%2C%20%22opacity%22%3A%201.0%2C%20%22subdomains%22%3A%20%22abc%22%2C%20%22tms%22%3A%20false%7D%0A%20%20%20%20%20%20%20%20%20%20%20%20%29.addTo%28map_5fb2591a305a4c4599dbf0af23f97855%29%3B%0A%20%20%20%20%20%20%20%20%0A%20%20%20%20%0A%20%20%20%20%20%20%20%20%20%20%20%20var%20layer_control_a6712a6d654a4ba29e357283e0d50849%20%3D%20%7B%0A%20%20%20%20%20%20%20%20%20%20%20%20%20%20%20%20base_layers%20%3A%20%7B%0A%20%20%20%20%20%20%20%20%20%20%20%20%20%20%20%20%20%20%20%20%22openstreetmap%22%20%3A%20tile_layer_4ce53a04f6524a5e901a594305500d05%2C%0A%20%20%20%20%20%20%20%20%20%20%20%20%20%20%20%20%7D%2C%0A%20%20%20%20%20%20%20%20%20%20%20%20%20%20%20%20overlays%20%3A%20%20%7B%0A%20%20%20%20%20%20%20%20%20%20%20%20%20%20%20%20%20%20%20%20%22Google%20Maps%22%20%3A%20tile_layer_9893d2534a87412faca24142f9b5ccbe%2C%0A%20%20%20%20%20%20%20%20%20%20%20%20%20%20%20%20%20%20%20%20%22China%22%20%3A%20tile_layer_1ac0f8695c9e4d87868443dbc512a49c%2C%0A%20%20%20%20%20%20%20%20%20%20%20%20%20%20%20%20%20%20%20%20%22Estados%20Unidos%22%20%3A%20tile_layer_26b0dd1cbfc14f6facdf46c7567400e4%2C%0A%20%20%20%20%20%20%20%20%20%20%20%20%20%20%20%20%20%20%20%20%22Turkey%22%20%3A%20tile_layer_77ee565112974fe88f953fa15db4b938%2C%0A%20%20%20%20%20%20%20%20%20%20%20%20%20%20%20%20%20%20%20%20%22India%22%20%3A%20tile_layer_0974e5b82baa4777882c270cb0abcbf6%2C%0A%20%20%20%20%20%20%20%20%20%20%20%20%20%20%20%20%20%20%20%20%22Brazil%22%20%3A%20tile_layer_e98e45c759674356aef33b81a6755223%2C%0A%20%20%20%20%20%20%20%20%20%20%20%20%20%20%20%20%20%20%20%20%22Chile%22%20%3A%20tile_layer_0f2879f00d3748ebbdbda73e93fa8986%2C%0A%20%20%20%20%20%20%20%20%20%20%20%20%20%20%20%20%20%20%20%20%22Russia%22%20%3A%20tile_layer_ad22cceb20af4ef6bde069d66b2ff082%2C%0A%20%20%20%20%20%20%20%20%20%20%20%20%20%20%20%20%20%20%20%20%22Iran%22%20%3A%20tile_layer_16f1e896e94145079475ccd1de0493ff%2C%0A%20%20%20%20%20%20%20%20%20%20%20%20%20%20%20%20%20%20%20%20%22Uzbekistan%22%20%3A%20tile_layer_279a8293bb514e16a1c727cf83a1f7aa%2C%0A%20%20%20%20%20%20%20%20%20%20%20%20%20%20%20%20%20%20%20%20%22Ukraine%22%20%3A%20tile_layer_f10aed8f836b4b3c8bc34c5b8678d7e9%2C%0A%20%20%20%20%20%20%20%20%20%20%20%20%20%20%20%20%7D%2C%0A%20%20%20%20%20%20%20%20%20%20%20%20%7D%3B%0A%20%20%20%20%20%20%20%20%20%20%20%20L.control.layers%28%0A%20%20%20%20%20%20%20%20%20%20%20%20%20%20%20%20layer_control_a6712a6d654a4ba29e357283e0d50849.base_layers%2C%0A%20%20%20%20%20%20%20%20%20%20%20%20%20%20%20%20layer_control_a6712a6d654a4ba29e357283e0d50849.overlays%2C%0A%20%20%20%20%20%20%20%20%20%20%20%20%20%20%20%20%7B%22autoZIndex%22%3A%20true%2C%20%22collapsed%22%3A%20true%2C%20%22position%22%3A%20%22topright%22%7D%0A%20%20%20%20%20%20%20%20%20%20%20%20%29.addTo%28map_5fb2591a305a4c4599dbf0af23f97855%29%3B%0A%20%20%20%20%20%20%20%20%0A%3C/script%3E onload=\"this.contentDocument.open();this.contentDocument.write(    decodeURIComponent(this.getAttribute('data-html')));this.contentDocument.close();\" allowfullscreen webkitallowfullscreen mozallowfullscreen></iframe></div></div>"
      ],
      "text/plain": [
       "<geemap.eefolium.Map at 0x2692b2d4e50>"
      ]
     },
     "execution_count": 7,
     "metadata": {},
     "output_type": "execute_result"
    }
   ],
   "source": [
    "Map = geemap.Map()\n",
    "\n",
    "cropViz = {'min': 0, 'max': 5, 'palette': ['grey','orange', 'brown','02a50f', 'green','yellow']}\n",
    "\n",
    "Map.addLayer(cropland.clip(China), cropViz, 'China')\n",
    "Map.addLayer(cropland.clip(USA), cropViz, 'Estados Unidos')\n",
    "Map.addLayer(cropland.clip(Turkey), cropViz, 'Turkey')\n",
    "Map.addLayer(cropland.clip(India), cropViz, 'India')\n",
    "Map.addLayer(cropland.clip(Brazil), cropViz, 'Brazil')\n",
    "Map.addLayer(cropland.clip(Chile), cropViz, 'Chile')\n",
    "Map.addLayer(cropland.clip(Russia), cropViz, 'Russia')\n",
    "Map.addLayer(cropland.clip(Russia), cropViz, 'Iran')\n",
    "Map.addLayer(cropland.clip(Russia), cropViz, 'Uzbekistan')\n",
    "Map.addLayer(cropland.clip(Russia), cropViz, 'Ukraine')\n",
    "\n",
    "Map"
   ]
  },
  {
   "cell_type": "code",
   "execution_count": 71,
   "id": "0e8ddcf6",
   "metadata": {},
   "outputs": [
    {
     "data": {
      "application/vnd.jupyter.widget-view+json": {
       "model_id": "32998cc2e33941259dfdea8dcb615053",
       "version_major": 2,
       "version_minor": 0
      },
      "text/plain": [
       "Output()"
      ]
     },
     "metadata": {},
     "output_type": "display_data"
    }
   ],
   "source": [
    "out_img = os.path.expanduser(\"~/Downloads/30DayMapChallenge/17)Land/LandChina.png\")\n",
    "geemap.get_image_thumbnail(cropland.clip(China), out_img, cropViz, dimensions=1000, format='png', region = China.geometry())\n",
    "geemap.show_image(out_img)"
   ]
  },
  {
   "cell_type": "code",
   "execution_count": 73,
   "id": "e8c01a35",
   "metadata": {},
   "outputs": [
    {
     "data": {
      "application/vnd.jupyter.widget-view+json": {
       "model_id": "4152b2a27c3d43c88a8aad8135ac7cf2",
       "version_major": 2,
       "version_minor": 0
      },
      "text/plain": [
       "Output()"
      ]
     },
     "metadata": {},
     "output_type": "display_data"
    }
   ],
   "source": [
    "out_img = os.path.expanduser(\"~/Downloads/30DayMapChallenge/17)Land/LandUSA.png\")\n",
    "geemap.get_image_thumbnail(cropland.clip(USA), out_img, cropViz, dimensions=1080, format='png', region = USA.geometry())\n",
    "geemap.show_image(out_img)"
   ]
  },
  {
   "cell_type": "code",
   "execution_count": 74,
   "id": "235a7fc6",
   "metadata": {},
   "outputs": [
    {
     "data": {
      "application/vnd.jupyter.widget-view+json": {
       "model_id": "838bd98f98bc47b795eb0093501a1bae",
       "version_major": 2,
       "version_minor": 0
      },
      "text/plain": [
       "Output()"
      ]
     },
     "metadata": {},
     "output_type": "display_data"
    }
   ],
   "source": [
    "out_img = os.path.expanduser(\"~/Downloads/30DayMapChallenge/17)Land/Land.png\")\n",
    "geemap.get_image_thumbnail(cropland, out_img, cropViz, dimensions=1000, format='png', )\n",
    "geemap.show_image(out_img)"
   ]
  },
  {
   "cell_type": "code",
   "execution_count": null,
   "id": "51b86ede",
   "metadata": {},
   "outputs": [],
   "source": []
  }
 ],
 "metadata": {
  "kernelspec": {
   "display_name": "Python 3 (ipykernel)",
   "language": "python",
   "name": "python3"
  },
  "language_info": {
   "codemirror_mode": {
    "name": "ipython",
    "version": 3
   },
   "file_extension": ".py",
   "mimetype": "text/x-python",
   "name": "python",
   "nbconvert_exporter": "python",
   "pygments_lexer": "ipython3",
   "version": "3.9.7"
  }
 },
 "nbformat": 4,
 "nbformat_minor": 5
}
